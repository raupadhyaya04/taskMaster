{
  "nbformat": 4,
  "nbformat_minor": 0,
  "metadata": {
    "colab": {
      "provenance": [],
      "authorship_tag": "ABX9TyOHopdg+JdhgNDw7Lq2XBNC",
      "include_colab_link": true
    },
    "kernelspec": {
      "name": "python3",
      "display_name": "Python 3"
    },
    "language_info": {
      "name": "python"
    }
  },
  "cells": [
    {
      "cell_type": "markdown",
      "metadata": {
        "id": "view-in-github",
        "colab_type": "text"
      },
      "source": [
        "<a href=\"https://colab.research.google.com/github/raupadhyaya04/taskMaster/blob/main/logic.ipynb\" target=\"_parent\"><img src=\"https://colab.research.google.com/assets/colab-badge.svg\" alt=\"Open In Colab\"/></a>"
      ]
    },
    {
      "cell_type": "code",
      "execution_count": 73,
      "metadata": {
        "id": "mCrWa17gtT3X"
      },
      "outputs": [],
      "source": [
        "import pandas as pd"
      ]
    },
    {
      "cell_type": "code",
      "source": [
        "def insert_label(label, labelList):\n",
        "  labelList.append(label)"
      ],
      "metadata": {
        "id": "NE_84SbQ3W50"
      },
      "execution_count": 56,
      "outputs": []
    },
    {
      "cell_type": "code",
      "source": [
        "def createLabelDict(labelList, importanceList):\n",
        "  labelDict = dict(zip(labelList, importanceList))\n",
        "  return labelDict"
      ],
      "metadata": {
        "id": "XVNOlfKUAa6h"
      },
      "execution_count": 57,
      "outputs": []
    },
    {
      "cell_type": "code",
      "source": [
        "def rankLabels(labelList):\n",
        "  newList = []\n",
        "\n",
        "  while (len(labelList) != 1):\n",
        "    for i in range(0, len(labelList)):\n",
        "      print(str(i + 1) + \".\", labelList[i])\n",
        "      continue\n",
        "\n",
        "    indexRemover = int(input(\"Choose the most important task from the list by the associated number: \"))\n",
        "    while ((indexRemover > len(labelList) + 1) or (indexRemover < 0)):\n",
        "      print(\"invalid input, please try again\")\n",
        "      indexRemover = int(input(\"Choose the most important task from the list by the associated number: \"))\n",
        "      continue\n",
        "\n",
        "    indexRemover -= 1\n",
        "    newList.append(labelList[indexRemover])\n",
        "    labelList.remove(labelList[indexRemover])\n",
        "    continue\n",
        "\n",
        "  if (len(labelList) == 1):\n",
        "    newList.append(labelList[0])\n",
        "    labelList.remove(labelList[0])\n",
        "\n",
        "  newList.reverse()\n",
        "  return newList"
      ],
      "metadata": {
        "id": "NjLQJPX7G2MY"
      },
      "execution_count": 58,
      "outputs": []
    },
    {
      "cell_type": "code",
      "source": [
        "def insert_labelImportance(labelList):\n",
        "  importanceList = []\n",
        "  for i in range(len(labelList)):\n",
        "    importanceList.append(i + 1)\n",
        "\n",
        "  importanceList.reverse()\n",
        "  labelList.reverse()\n",
        "  return importanceList"
      ],
      "metadata": {
        "id": "g13JkmWn9ifh"
      },
      "execution_count": 59,
      "outputs": []
    },
    {
      "cell_type": "code",
      "source": [
        "def insertTask(task, taskList):\n",
        "  taskList.append(task)"
      ],
      "metadata": {
        "id": "kOzpYoyZxHv7"
      },
      "execution_count": 60,
      "outputs": []
    },
    {
      "cell_type": "code",
      "source": [
        "def insertLabels(label, labelsList):\n",
        "  labelsList.append(label)"
      ],
      "metadata": {
        "id": "QRvia1Q6LIM-"
      },
      "execution_count": 61,
      "outputs": []
    },
    {
      "cell_type": "code",
      "source": [
        "def calculateScore(task, importance, label, daysRemaining, labelDict):\n",
        "  score = importance + labelDict[label] - daysRemaining\n",
        "  return score"
      ],
      "metadata": {
        "id": "q35izlz9Ow3y"
      },
      "execution_count": 62,
      "outputs": []
    },
    {
      "cell_type": "code",
      "source": [
        "def insertScore(score, scoreList):\n",
        "  scoreList.append(score)"
      ],
      "metadata": {
        "id": "Lt8smfYGug2J"
      },
      "execution_count": 63,
      "outputs": []
    },
    {
      "cell_type": "code",
      "source": [
        "def insertDaysRem(daysRem, daysRemList):\n",
        "  daysRemList.append(daysRem)"
      ],
      "metadata": {
        "id": "-FO3FD8zLjFJ"
      },
      "execution_count": 64,
      "outputs": []
    },
    {
      "cell_type": "code",
      "source": [
        "def sortScoreList(scoreList):\n",
        "  newScoreList = []\n",
        "  while (len(scoreList) != 0):\n",
        "    newScoreList.append(scoreList[scoreList.index(max(scoreList))])\n",
        "    scoreList.remove(scoreList[scoreList.index(max(scoreList))])"
      ],
      "metadata": {
        "id": "6Xj6gtOA4-QG"
      },
      "execution_count": 65,
      "outputs": []
    },
    {
      "cell_type": "code",
      "source": [
        "def sortTaskList(scoreList, taskList):\n",
        "  newTaskList = []\n",
        "  while (len(scoreList) != 0):\n",
        "    newTaskList.append(taskList[scoreList.index(max(scoreList))])\n",
        "    scoreList.remove(scoreList[scoreList.index(max(scoreList))])\n",
        "  return newTaskList"
      ],
      "metadata": {
        "id": "SNw6qFotKlzQ"
      },
      "execution_count": 66,
      "outputs": []
    },
    {
      "cell_type": "code",
      "source": [
        "def sortLabelsList(scoreList, labelsList):\n",
        "  newLabelsList = []\n",
        "  while (len(scoreList) != 0):\n",
        "    newLabelsList.append(labelsList[scoreList.index(max(scoreList))])\n",
        "    scoreList.remove(scoreList[scoreList.index(max(scoreList))])"
      ],
      "metadata": {
        "id": "UM5XTtdMUVGK"
      },
      "execution_count": 67,
      "outputs": []
    },
    {
      "cell_type": "code",
      "source": [
        "def sortDaysRemList(scoreList, daysRemList):\n",
        "  newDaysRemList = []\n",
        "  while (len(scoreList) != 0):\n",
        "    newDaysRemList.append(daysRemList[scoreList.index(max(scoreList))])\n",
        "    scoreList.remove(scoreList[scoreList.index(max(scoreList))])\n",
        "  return newDaysRemList"
      ],
      "metadata": {
        "id": "Gs1lrOLjUjep"
      },
      "execution_count": 68,
      "outputs": []
    },
    {
      "cell_type": "code",
      "source": [
        "def sortAllLists(scoreList, taskList, labelsList, daysRemList):\n",
        "\n",
        "  testScoreList = scoreList.copy()\n",
        "  taskList = sortTaskList(testScoreList, taskList)\n",
        "\n",
        "  testScoreList = scoreList.copy()\n",
        "  labelsList = sortLabelsList(testScoreList, labelsList)\n",
        "\n",
        "  testScoreList = scoreList.copy()\n",
        "  daysRemList = sortDaysRemList(testScoreList, daysRemList)\n",
        "\n",
        "  testScoreList = scoreList.copy()\n",
        "  scoreList = sortScoreList(testScoreList)"
      ],
      "metadata": {
        "id": "vPvBvD5ZU2g1"
      },
      "execution_count": 69,
      "outputs": []
    },
    {
      "cell_type": "code",
      "source": [
        "print(\"Welcome to the taskMaster!\")\n",
        "\n",
        "# Label List\n",
        "labelList = []\n",
        "\n",
        "# Task Lists\n",
        "taskList = []\n",
        "labelsList = []\n",
        "daysRemList = []\n",
        "scoreList = []\n",
        "\n",
        "# Label frontend:\n",
        "quitLabels = False\n",
        "while (quitLabels != True):\n",
        "  labelName = input(\"Insert Label name: \")\n",
        "\n",
        "  insert_label(labelName, labelList)\n",
        "\n",
        "  print(labelList)\n",
        "\n",
        "  end = input(\"Are you done? (y/n): \")\n",
        "\n",
        "  if (end == \"y\"):\n",
        "    quitLabels = True\n",
        "  else:\n",
        "    continue\n",
        "labelList = rankLabels(labelList)\n",
        "labelImportanceList = insert_labelImportance(labelList)\n",
        "labelDict = createLabelDict(labelList, labelImportanceList)\n",
        "\n",
        "print(\"\\nNow let's insert some tasks:\")\n",
        "# Task frontend:\n",
        "quitTasks = False\n",
        "\n",
        "while (quitTasks != True):\n",
        "  task = input(\"Insert task name: \")\n",
        "  importance = float(input(\"Insert task's importance on a scale of 1-5: \"))\n",
        "  while (importance > 5 or importance < 1):\n",
        "    print(\"Incorrect input, please try again\")\n",
        "    importance = float(input(\"Insert task's importance on a scale of 1-5: \"))\n",
        "    continue\n",
        "\n",
        "  for index in range(0, len(labelList)):\n",
        "    print(str(index + 1) + \".\", labelList[index])\n",
        "  label = input(\"Insert task label: \")\n",
        "  while (label not in labelList):\n",
        "    print(\"Invalid input, try again\")\n",
        "    label = input(\"Insert task label: \")\n",
        "\n",
        "  insertLabels(label, labelsList)\n",
        "\n",
        "  daysRemaining = int(input(\"How many days are remaining for this task? \\n\"))\n",
        "  insertDaysRem(daysRemaining, daysRemList)\\\n",
        "\n",
        "  while (daysRemaining < 0):\n",
        "    print(\"Incorrect input, please try again\")\n",
        "    daysRemaining = input(\"How many days are remaining for this task? \\n\")\n",
        "    continue\n",
        "  insertTask(task, taskList)\n",
        "\n",
        "  score = calculateScore(task, importance, label, daysRemaining, labelDict)\n",
        "  insertScore(score, scoreList)\n",
        "\n",
        "  end = input(\"Are you done? (y/n): \")\n",
        "  if (end == \"y\"):\n",
        "    quitTasks = True\n",
        "\n",
        "sortAllLists(scoreList, taskList, labelsList, daysRemList)\n",
        "\n",
        "listOfLists = [taskList, labelsList, daysRemList, scoreList]\n",
        "\n",
        "df = pd.DataFrame(listOfLists).transpose()\n",
        "df.columns = [\"Task\", \"Label\", \"Days Remaining\", \"Score\"]\n",
        "\n",
        "print(str(df))"
      ],
      "metadata": {
        "colab": {
          "base_uri": "https://localhost:8080/"
        },
        "id": "S_689zEoMoig",
        "outputId": "ec1cddee-b008-4bd7-8863-18cd72153e15"
      },
      "execution_count": 74,
      "outputs": [
        {
          "output_type": "stream",
          "name": "stdout",
          "text": [
            "Welcome to the taskMaster!\n",
            "Insert Label name: Uni\n",
            "['Uni']\n",
            "Are you done? (y/n): y\n",
            "\n",
            "Now let's insert some tasks:\n",
            "Insert task name: Memems\n",
            "Insert task's importance on a scale of 1-5: 5\n",
            "1. Uni\n",
            "Insert task label: Uni\n",
            "How many days are remaining for this task? \n",
            "3\n",
            "Are you done? (y/n): y\n",
            "     Task Label Days Remaining Score\n",
            "0  Memems   Uni              3   3.0\n"
          ]
        }
      ]
    }
  ]
}