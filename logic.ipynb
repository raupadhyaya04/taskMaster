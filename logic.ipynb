{
  "nbformat": 4,
  "nbformat_minor": 0,
  "metadata": {
    "colab": {
      "provenance": [],
      "authorship_tag": "ABX9TyM5ixPeiot7r+MniegriLPt",
      "include_colab_link": true
    },
    "kernelspec": {
      "name": "python3",
      "display_name": "Python 3"
    },
    "language_info": {
      "name": "python"
    }
  },
  "cells": [
    {
      "cell_type": "markdown",
      "metadata": {
        "id": "view-in-github",
        "colab_type": "text"
      },
      "source": [
        "<a href=\"https://colab.research.google.com/github/raupadhyaya04/taskMaster/blob/main/logic.ipynb\" target=\"_parent\"><img src=\"https://colab.research.google.com/assets/colab-badge.svg\" alt=\"Open In Colab\"/></a>"
      ]
    },
    {
      "cell_type": "code",
      "execution_count": 7,
      "metadata": {
        "colab": {
          "base_uri": "https://localhost:8080/"
        },
        "id": "mCrWa17gtT3X",
        "outputId": "6dde2a5b-89fa-4a44-e0cd-286f5bc8ea48"
      },
      "outputs": [
        {
          "output_type": "stream",
          "name": "stdout",
          "text": [
            "Mounted at /drive\n"
          ]
        }
      ],
      "source": [
        "import pandas as pd\n",
        "from google.colab import drive\n",
        "drive.mount('/drive')"
      ]
    },
    {
      "cell_type": "code",
      "source": [
        "df = pd.read_excel(\"/drive/My Drive/Colab Notebooks/taskMaster/Tasks.xlsx\")\n",
        "\n",
        "df_task = df[\"Task\"]\n",
        "df_labels = df[\"Label\"]\n",
        "df_importance = df[\"Importance\"]\n",
        "df_score = df[\"Score\"]"
      ],
      "metadata": {
        "id": "jOKr6N16vTNU"
      },
      "execution_count": 8,
      "outputs": []
    },
    {
      "cell_type": "code",
      "source": [
        "def insert_label(label, labelList):\n",
        "  labelList.append(label)"
      ],
      "metadata": {
        "id": "NE_84SbQ3W50"
      },
      "execution_count": 5,
      "outputs": []
    },
    {
      "cell_type": "code",
      "source": [
        "def createLabelDict(labelList, importanceList):\n",
        "  labelDict = dict(zip(labelList, importanceList))\n",
        "  return labelDict"
      ],
      "metadata": {
        "id": "XVNOlfKUAa6h"
      },
      "execution_count": 6,
      "outputs": []
    },
    {
      "cell_type": "code",
      "source": [
        "def rankLabels(labelList):\n",
        "  newList = []\n",
        "\n",
        "  while (len(labelList) != 0):\n",
        "    for i in range(0, len(labelList)):\n",
        "      print((i + 1), labelList[i])\n",
        "      continue\n",
        "\n",
        "    indexRemover = int(input(\"Choose the most important task from the list by the associated number: \"))\n",
        "    indexRemover -= 1\n",
        "    newList.append(labelList[indexRemover])\n",
        "    labelList.remove(labelList[indexRemover])\n",
        "    continue\n",
        "  newList.reverse()\n",
        "  return newList"
      ],
      "metadata": {
        "id": "NjLQJPX7G2MY"
      },
      "execution_count": 13,
      "outputs": []
    },
    {
      "cell_type": "code",
      "source": [
        "def insert_labelImportance(labelList):\n",
        "  importanceList = []\n",
        "  for i in range(len(labelList)):\n",
        "    importanceList.append(i + 1)\n",
        "\n",
        "  importanceList.reverse()\n",
        "  labelList.reverse()\n",
        "  return importanceList"
      ],
      "metadata": {
        "id": "g13JkmWn9ifh"
      },
      "execution_count": 15,
      "outputs": []
    },
    {
      "cell_type": "code",
      "source": [
        "# Terminal frontend for labels\n",
        "\n",
        "print(\"Welcome to the taskMaster!\")\n",
        "\n",
        "labelList = []\n",
        "\n",
        "quitLabels = False\n",
        "while (quitLabels != True):\n",
        "  labelName = input(\"Insert Label name: \")\n",
        "\n",
        "  insert_label(labelName, labelList)\n",
        "\n",
        "  print(labelList)\n",
        "\n",
        "  end = input(\"Are you done? (y/n): \")\n",
        "\n",
        "  if (end == \"y\"):\n",
        "    quitLabels = True\n",
        "  else:\n",
        "    continue\n",
        "labelList = rankLabels(labelList)\n",
        "labelImportanceList = insert_labelImportance(labelList)\n",
        "labelDict = createLabelDict(labelList, labelImportanceList)\n",
        "print(labelDict)"
      ],
      "metadata": {
        "colab": {
          "base_uri": "https://localhost:8080/"
        },
        "id": "1QVeXnFE5nR5",
        "outputId": "9d530bcf-8a0d-4c24-830b-12cf2e2d924c"
      },
      "execution_count": 16,
      "outputs": [
        {
          "output_type": "stream",
          "name": "stdout",
          "text": [
            "Welcome to the taskMaster!\n",
            "Insert Label name: uni\n",
            "['uni']\n",
            "Are you done? (y/n): n\n",
            "Insert Label name: memes\n",
            "['uni', 'memes']\n",
            "Are you done? (y/n): n\n",
            "Insert Label name: life\n",
            "['uni', 'memes', 'life']\n",
            "Are you done? (y/n): y\n",
            "1 uni\n",
            "2 memes\n",
            "3 life\n",
            "Choose the most important task from the list by the associated number: 3\n",
            "1 uni\n",
            "2 memes\n",
            "Choose the most important task from the list by the associated number: 1\n",
            "1 memes\n",
            "Choose the most important task from the list by the associated number: 1\n",
            "{'life': 3, 'uni': 2, 'memes': 1}\n"
          ]
        }
      ]
    },
    {
      "cell_type": "markdown",
      "source": [
        "TODO:\n",
        "\n",
        "- Task stuff:\n",
        "  - List of tasks, and their label\n",
        "  - Score the tasks based on:\n",
        "    - Importance\n",
        "    - Label\n",
        "    - Days left"
      ],
      "metadata": {
        "id": "eCgv4dwpMwIR"
      }
    },
    {
      "cell_type": "markdown",
      "source": [
        "Task functions:\n",
        "- Use task label and days left, as well as a 1-5 scale importance level to score the importance\n",
        "- Sort the tasks by their scoring"
      ],
      "metadata": {
        "id": "lzff7GG6Sr_y"
      }
    },
    {
      "cell_type": "code",
      "source": [
        "def insert_Task(task, taskList):\n",
        "  taskList.append(task)"
      ],
      "metadata": {
        "id": "kOzpYoyZxHv7"
      },
      "execution_count": 29,
      "outputs": []
    },
    {
      "cell_type": "code",
      "source": [
        "def calculateScore(task, importance, label, daysRemaining, labelDict):\n",
        "  if (label not in labelDict):\n",
        "    labelDict[label] = -1\n",
        "  score = importance + labelDict[label] - daysRemaining\n",
        "  return score"
      ],
      "metadata": {
        "id": "q35izlz9Ow3y"
      },
      "execution_count": null,
      "outputs": []
    },
    {
      "cell_type": "code",
      "source": [
        "# Terminal frontend for tasks\n",
        "\n",
        "taskList = []\n",
        "\n",
        "print(\"Welcome to the taskMaster!\")\n",
        "\n",
        "quitTasks = False\n",
        "\n",
        "while (quitTasks != True):\n",
        "  task = input(\"Insert task name: \")\n",
        "  importance = input(\"Insert task's importance on a scale of 1-5: \")\n",
        "  while (importance > 5 or importance < 1):\n",
        "    print(\"Incorrect input, please try again\")\n",
        "    importance = float(input(\"Insert task's importance on a scale of 1-5: \"))\n",
        "    continue\n",
        "  label = input(\"Insert task label: \")\n",
        "  labelSure = False\n",
        "  while (labelSure != True):\n",
        "    print(labelSure)\n",
        "    sure = input(\"Are you sure that this is your label? (y/n) \\n\")\n",
        "    if (sure == 'y'):\n",
        "      labelSure = True\n",
        "    continue\n",
        "\n",
        "  daysRemaining = input(\"How many days are remaining for this task? \\n\")\n",
        "  while (daysRemaining < 0):\n",
        "    print(\"Incorrect input, please try again\")\n",
        "    daysRemaining = input(\"How many days are remaining for this task? \\n\")\n",
        "    continue\n",
        "  insert_Task(task, taskList)\n",
        "\n",
        "\n",
        "\n"
      ],
      "metadata": {
        "id": "3tMYy3fU7cW1"
      },
      "execution_count": null,
      "outputs": []
    }
  ]
}